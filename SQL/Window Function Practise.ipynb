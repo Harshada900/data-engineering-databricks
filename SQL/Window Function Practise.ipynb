{
 "cells": [
  {
   "cell_type": "code",
   "execution_count": 0,
   "metadata": {
    "application/vnd.databricks.v1+cell": {
     "cellMetadata": {
      "byteLimit": 2048000,
      "rowLimit": 10000
     },
     "inputWidgets": {},
     "nuid": "3aa176be-358e-486e-b47c-d2d104c839ce",
     "showTitle": false,
     "tableResultSettingsMap": {},
     "title": ""
    }
   },
   "outputs": [],
   "source": [
    "CREATE TABLE SALES(\n",
    "  order_id int,\n",
    "  customer_id int,\n",
    "  order_date date,\n",
    "  product VARCHAR(50),\n",
    "  quantity int,\n",
    "  price int\n",
    ")"
   ]
  },
  {
   "cell_type": "code",
   "execution_count": 0,
   "metadata": {
    "application/vnd.databricks.v1+cell": {
     "cellMetadata": {
      "byteLimit": 2048000,
      "rowLimit": 10000
     },
     "inputWidgets": {},
     "nuid": "c9d5ad94-1586-4daf-a3a3-5b443577439f",
     "showTitle": false,
     "tableResultSettingsMap": {},
     "title": ""
    }
   },
   "outputs": [],
   "source": [
    "insert into sales values\n",
    "(1,101,'2024-01-01','Laptop',1,800),\n",
    "(2,102,\t'2024-01-03',\t'Mobile',\t2,\t600),\n",
    "(3,\t101,\t'2024-01-05',\t'Tablet',\t1,\t300),\n",
    "(4,\t103,\t'2024-01-06',\t'Laptop',\t1,\t900),\n",
    "(5,\t102,\t'2024-01-10',\t'Mobile',\t1,\t700),\n",
    "(6,\t101,\t'2024-01-12',\t'Laptop',\t2,\t1600),\n",
    "(7,\t104,\t'2024-01-15',\t'Tablet',\t1,\t350),\n",
    "(8,\t102,\t'2024-01-18',\t'Laptop',\t1,\t850),\n",
    "(9,\t103,\t'2024-01-20',\t'Mobile',\t2,\t1200);"
   ]
  },
  {
   "cell_type": "code",
   "execution_count": 0,
   "metadata": {
    "application/vnd.databricks.v1+cell": {
     "cellMetadata": {
      "byteLimit": 2048000,
      "rowLimit": 10000
     },
     "inputWidgets": {},
     "nuid": "ef2c57cc-0bf7-409b-8559-6dd977d7515e",
     "showTitle": false,
     "tableResultSettingsMap": {},
     "title": ""
    }
   },
   "outputs": [],
   "source": [
    "select * from sales;"
   ]
  },
  {
   "cell_type": "code",
   "execution_count": 0,
   "metadata": {
    "application/vnd.databricks.v1+cell": {
     "cellMetadata": {
      "byteLimit": 2048000,
      "rowLimit": 10000
     },
     "inputWidgets": {},
     "nuid": "776f141c-c4a7-4d24-bac6-96e07a8c3601",
     "showTitle": false,
     "tableResultSettingsMap": {},
     "title": ""
    }
   },
   "outputs": [],
   "source": [
    "-- Rank all orders by price (highest first).\n",
    "select order_id, order_date, price, RANK() OVER(ORDER BY price desc) AS RANK_ORDER\n",
    "from sales;"
   ]
  },
  {
   "cell_type": "code",
   "execution_count": 0,
   "metadata": {
    "application/vnd.databricks.v1+cell": {
     "cellMetadata": {
      "byteLimit": 2048000,
      "rowLimit": 10000
     },
     "inputWidgets": {},
     "nuid": "e488fe93-878c-4f41-b2e3-f3e56ecc57c2",
     "showTitle": false,
     "tableResultSettingsMap": {},
     "title": ""
    }
   },
   "outputs": [],
   "source": [
    "select customer_id, order_date, price, RANK() OVER(PARTITION BY customer_id ORDER BY price desc) AS RANK_ORDER\n",
    "from sales "
   ]
  },
  {
   "cell_type": "code",
   "execution_count": 0,
   "metadata": {
    "application/vnd.databricks.v1+cell": {
     "cellMetadata": {
      "byteLimit": 2048000,
      "rowLimit": 10000
     },
     "inputWidgets": {},
     "nuid": "67d9ad6e-9fcf-4af1-a433-00658c178ccc",
     "showTitle": false,
     "tableResultSettingsMap": {},
     "title": ""
    }
   },
   "outputs": [],
   "source": [
    "-- For each customer, calculate the running total of price ordered by order_date.\n",
    "\n",
    "select customer_id, order_date, price, SUM(price) OVER(PARTITION BY customer_id order BY order_date) AS running_total\n",
    "from sales;"
   ]
  },
  {
   "cell_type": "code",
   "execution_count": 0,
   "metadata": {
    "application/vnd.databricks.v1+cell": {
     "cellMetadata": {
      "byteLimit": 2048000,
      "rowLimit": 10000
     },
     "inputWidgets": {},
     "nuid": "9b3a7c1e-c37a-42db-b2e8-8fe89a48d46f",
     "showTitle": false,
     "tableResultSettingsMap": {},
     "title": ""
    }
   },
   "outputs": [],
   "source": [
    "-- For each customer, calculate the average price of all their orders. Show this value alongside each order.\n",
    "\n",
    "select customer_id, price, AVG(price) OVER(partition by customer_id order by customer_id) AS AVG_price_of_each_customer\n",
    "from sales;"
   ]
  },
  {
   "cell_type": "code",
   "execution_count": 0,
   "metadata": {
    "application/vnd.databricks.v1+cell": {
     "cellMetadata": {
      "byteLimit": 2048000,
      "rowLimit": 10000
     },
     "inputWidgets": {},
     "nuid": "8def6206-caec-4be8-907b-6abcf7703af3",
     "showTitle": false,
     "tableResultSettingsMap": {},
     "title": ""
    }
   },
   "outputs": [],
   "source": [
    "-- For each customer, show the price of their previous order (based on order_date).\n",
    "\n",
    "select customer_id, order_date, price, LAG(price) OVER (PARTITION BY customer_id ORDER BY order_date) AS previous_order_price\n",
    "from sales"
   ]
  },
  {
   "cell_type": "code",
   "execution_count": 0,
   "metadata": {
    "application/vnd.databricks.v1+cell": {
     "cellMetadata": {
      "byteLimit": 2048000,
      "rowLimit": 10000
     },
     "inputWidgets": {},
     "nuid": "26358146-2ac0-46a9-a74e-98d38cc7c1c8",
     "showTitle": false,
     "tableResultSettingsMap": {},
     "title": ""
    }
   },
   "outputs": [],
   "source": [
    "-- For each customer, show the price of their next order (based on order_date).\n",
    "select customer_id, order_date, price, lead(price) OVER(partition by customer_id order by order_date ) AS next_order_price\n",
    "from sales"
   ]
  },
  {
   "cell_type": "code",
   "execution_count": 0,
   "metadata": {
    "application/vnd.databricks.v1+cell": {
     "cellMetadata": {
      "byteLimit": 2048000,
      "rowLimit": 10000
     },
     "inputWidgets": {},
     "nuid": "ae550a4f-b3ab-4ef4-b8c8-8e3842243ab8",
     "showTitle": false,
     "tableResultSettingsMap": {},
     "title": ""
    }
   },
   "outputs": [],
   "source": [
    "--For each customer, find the order with the highest price.\n",
    "select customer_id, price, MAX(price) OVER(partition by customer_id order by price desc) AS highest_price\n",
    "from sales;"
   ]
  },
  {
   "cell_type": "code",
   "execution_count": 0,
   "metadata": {
    "application/vnd.databricks.v1+cell": {
     "cellMetadata": {
      "byteLimit": 2048000,
      "rowLimit": 10000
     },
     "inputWidgets": {},
     "nuid": "bbfc8c76-7786-4e62-b72d-e65f2d04c996",
     "showTitle": false,
     "tableResultSettingsMap": {},
     "title": ""
    }
   },
   "outputs": [],
   "source": [
    "-- For each customer, find the order with the second highest price.\n",
    "SELECT customer_id, order_date, price\n",
    "FROM (\n",
    "    SELECT customer_id, order_date, price,\n",
    "           ROW_NUMBER() OVER (PARTITION BY customer_id ORDER BY price DESC) AS rn\n",
    "    FROM sales\n",
    ") t\n",
    "WHERE rn = 2;"
   ]
  },
  {
   "cell_type": "code",
   "execution_count": 0,
   "metadata": {
    "application/vnd.databricks.v1+cell": {
     "cellMetadata": {
      "byteLimit": 2048000,
      "rowLimit": 10000
     },
     "inputWidgets": {},
     "nuid": "442256f9-ec63-41c9-9239-ccd94a6d7d71",
     "showTitle": false,
     "tableResultSettingsMap": {},
     "title": ""
    }
   },
   "outputs": [],
   "source": [
    "SELECT customer_id, order_date, price,\n",
    "           ROW_NUMBER() OVER (PARTITION BY customer_id ORDER BY price DESC) AS rn\n",
    "    FROM sales\n"
   ]
  },
  {
   "cell_type": "code",
   "execution_count": 0,
   "metadata": {
    "application/vnd.databricks.v1+cell": {
     "cellMetadata": {
      "byteLimit": 2048000,
      "rowLimit": 10000
     },
     "inputWidgets": {},
     "nuid": "bc705b39-3877-4bd3-b402-e581cb2307b9",
     "showTitle": false,
     "tableResultSettingsMap": {},
     "title": ""
    }
   },
   "outputs": [],
   "source": [
    "-- For each customer, calculate the difference in price between the current order and the previous order (based on order_date).\n",
    "select customer_id, order_date, price, price-LAG(price) OVER(partition by customer_id order by order_date) as difference\n",
    "from sales;"
   ]
  },
  {
   "cell_type": "code",
   "execution_count": 0,
   "metadata": {
    "application/vnd.databricks.v1+cell": {
     "cellMetadata": {
      "byteLimit": 2048000,
      "rowLimit": 10000
     },
     "inputWidgets": {},
     "nuid": "116d74e8-1158-491a-9e23-dad4a806862c",
     "showTitle": false,
     "tableResultSettingsMap": {},
     "title": ""
    }
   },
   "outputs": [],
   "source": [
    "-- For each order, calculate what percentage of the customer’s total spending that order represents.\n",
    "select customer_id,order_id, price, price*100/sum(price) OVER(partition by customer_id order by customer_id) as percentage_of_total_spending\n",
    "from sales\n"
   ]
  }
 ],
 "metadata": {
  "application/vnd.databricks.v1+notebook": {
   "computePreferences": null,
   "dashboards": [],
   "environmentMetadata": {
    "base_environment": "",
    "environment_version": "3"
   },
   "inputWidgetPreferences": null,
   "language": "sql",
   "notebookMetadata": {
    "pythonIndentUnit": 4
   },
   "notebookName": "Window Function Practise",
   "widgets": {}
  },
  "language_info": {
   "name": "sql"
  }
 },
 "nbformat": 4,
 "nbformat_minor": 0
}
