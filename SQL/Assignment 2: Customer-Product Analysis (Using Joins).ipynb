{
 "cells": [
  {
   "cell_type": "code",
   "execution_count": 0,
   "metadata": {
    "application/vnd.databricks.v1+cell": {
     "cellMetadata": {
      "byteLimit": 2048000,
      "rowLimit": 10000
     },
     "inputWidgets": {},
     "nuid": "edea7fb2-7d09-42db-abfa-9982f09994b6",
     "showTitle": false,
     "tableResultSettingsMap": {},
     "title": ""
    }
   },
   "outputs": [],
   "source": [
    "DELETE FROM sales_data where sale_id IN (101,102,103,104)"
   ]
  },
  {
   "cell_type": "code",
   "execution_count": 0,
   "metadata": {
    "application/vnd.databricks.v1+cell": {
     "cellMetadata": {
      "byteLimit": 2048000,
      "rowLimit": 10000
     },
     "inputWidgets": {},
     "nuid": "d31c6c97-e082-4a13-a761-416505be6784",
     "showTitle": false,
     "tableResultSettingsMap": {},
     "title": ""
    }
   },
   "outputs": [],
   "source": [
    "select * from sales_data"
   ]
  },
  {
   "cell_type": "code",
   "execution_count": 0,
   "metadata": {
    "application/vnd.databricks.v1+cell": {
     "cellMetadata": {
      "byteLimit": 2048000,
      "rowLimit": 10000
     },
     "inputWidgets": {},
     "nuid": "af36c16b-1a67-4894-ab76-95bb80e79757",
     "showTitle": false,
     "tableResultSettingsMap": {},
     "title": ""
    }
   },
   "outputs": [],
   "source": [
    "insert into sales_data values\n",
    "(101, 'C001', 'Shoes', 2999, '2023-10-01', 'North'),\n",
    "(102, 'C002', 'T-Shirt', 999, '2023-10-01', 'West'),\n",
    "(103, 'C001', 'Watch', 5999, '2023-10-02', 'North'),\n",
    "(104, 'C003', 'Bag', 1999, '2023-10-03', 'South');\n",
    "select * from sales_data;"
   ]
  },
  {
   "cell_type": "code",
   "execution_count": 0,
   "metadata": {
    "application/vnd.databricks.v1+cell": {
     "cellMetadata": {
      "byteLimit": 2048000,
      "rowLimit": 10000
     },
     "inputWidgets": {},
     "nuid": "abffe6f9-109e-411d-8493-cdde46c39577",
     "showTitle": false,
     "tableResultSettingsMap": {},
     "title": ""
    }
   },
   "outputs": [],
   "source": [
    "CREATE table customers(\n",
    "  customer_id STRING,\n",
    "  name VARCHAR(50),\n",
    "  gender char(10),\n",
    "  city VARCHAR(50)\n",
    ")"
   ]
  },
  {
   "cell_type": "code",
   "execution_count": 0,
   "metadata": {
    "application/vnd.databricks.v1+cell": {
     "cellMetadata": {
      "byteLimit": 2048000,
      "rowLimit": 10000
     },
     "inputWidgets": {},
     "nuid": "c37fa57d-8673-4ec1-bcf8-a19a345277f6",
     "showTitle": false,
     "tableResultSettingsMap": {},
     "title": ""
    }
   },
   "outputs": [],
   "source": [
    "select * from customers;"
   ]
  },
  {
   "cell_type": "code",
   "execution_count": 0,
   "metadata": {
    "application/vnd.databricks.v1+cell": {
     "cellMetadata": {
      "byteLimit": 2048000,
      "rowLimit": 10000
     },
     "inputWidgets": {},
     "nuid": "0bb8dabd-8ebe-40d5-8dd0-2168039ea383",
     "showTitle": false,
     "tableResultSettingsMap": {},
     "title": ""
    }
   },
   "outputs": [],
   "source": [
    "insert into customers values\n",
    "('C001','Ravi','M','Mumbai'),\n",
    "('C002','Priya','F','Delhi'),\n",
    "('C003','Arjun','M','Bangalore');\n",
    "select * from customers;\n"
   ]
  },
  {
   "cell_type": "code",
   "execution_count": 0,
   "metadata": {
    "application/vnd.databricks.v1+cell": {
     "cellMetadata": {
      "byteLimit": 2048000,
      "rowLimit": 10000
     },
     "inputWidgets": {},
     "nuid": "a62f5236-4eca-41e3-9542-c0338c43f62b",
     "showTitle": false,
     "tableResultSettingsMap": {},
     "title": ""
    }
   },
   "outputs": [],
   "source": [
    "-- write a JOIN query to show cutomer name, product and region\n",
    "\n",
    "select c.name, s.product, s.region\n",
    "from sales_data s\n",
    "inner join customers c\n",
    "on s.customer_id=c.customer_id"
   ]
  },
  {
   "cell_type": "code",
   "execution_count": 0,
   "metadata": {
    "application/vnd.databricks.v1+cell": {
     "cellMetadata": {
      "byteLimit": 2048000,
      "rowLimit": 10000
     },
     "inputWidgets": {},
     "nuid": "fdc75eb9-bff7-4103-ae38-8c06514699cf",
     "showTitle": false,
     "tableResultSettingsMap": {},
     "title": ""
    }
   },
   "outputs": [],
   "source": [
    "-- count how many products each customer has purchased\n",
    "\n",
    "select c.customer_id, count(s.customer_id)\n",
    "from sales_data s\n",
    "inner join customers c\n",
    "on s.customer_id=c.customer_id\n",
    "group by c.customer_id"
   ]
  },
  {
   "cell_type": "code",
   "execution_count": 0,
   "metadata": {
    "application/vnd.databricks.v1+cell": {
     "cellMetadata": {
      "byteLimit": 2048000,
      "rowLimit": 10000
     },
     "inputWidgets": {},
     "nuid": "882b316e-14d0-4157-ba41-0ba5e3214dd6",
     "showTitle": false,
     "tableResultSettingsMap": {},
     "title": ""
    }
   },
   "outputs": [],
   "source": [
    "-- get all female customers who made a purchase greater than 800\n",
    "\n",
    "select c.name, s.product, s.region, s.amount\n",
    "from sales_data s\n",
    "inner join customers c\n",
    "on s.customer_id=c.customer_id\n",
    "where c.gender='F' and s.amount>800"
   ]
  },
  {
   "cell_type": "code",
   "execution_count": 0,
   "metadata": {
    "application/vnd.databricks.v1+cell": {
     "cellMetadata": {
      "byteLimit": 2048000,
      "rowLimit": 10000
     },
     "inputWidgets": {},
     "nuid": "66330d7d-cb84-4622-8c51-3ce4b1afd330",
     "showTitle": false,
     "tableResultSettingsMap": {},
     "title": ""
    }
   },
   "outputs": [],
   "source": [
    "-- identify cities with the highest toatal purchase amount\n",
    "\n",
    "select c.city, sum(s.amount) as total_purchase_amount\n",
    "from sales_data s\n",
    "inner join customers c\n",
    "on s.customer_id=c.customer_id\n",
    "group by c.city\n",
    "order by total_purchase_amount desc\n"
   ]
  },
  {
   "cell_type": "code",
   "execution_count": 0,
   "metadata": {
    "application/vnd.databricks.v1+cell": {
     "cellMetadata": {},
     "inputWidgets": {},
     "nuid": "aa66402a-ac37-4c0e-b4d1-a7c13c25903d",
     "showTitle": false,
     "tableResultSettingsMap": {},
     "title": ""
    }
   },
   "outputs": [],
   "source": []
  }
 ],
 "metadata": {
  "application/vnd.databricks.v1+notebook": {
   "computePreferences": null,
   "dashboards": [],
   "environmentMetadata": {
    "base_environment": "",
    "environment_version": "3"
   },
   "inputWidgetPreferences": null,
   "language": "sql",
   "notebookMetadata": {
    "pythonIndentUnit": 4
   },
   "notebookName": "Assignment 2: Customer-Product Analysis (Using Joins)",
   "widgets": {}
  },
  "language_info": {
   "name": "sql"
  }
 },
 "nbformat": 4,
 "nbformat_minor": 0
}
