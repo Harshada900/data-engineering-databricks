{
 "cells": [
  {
   "cell_type": "code",
   "execution_count": 0,
   "metadata": {
    "application/vnd.databricks.v1+cell": {
     "cellMetadata": {
      "byteLimit": 2048000,
      "rowLimit": 10000
     },
     "inputWidgets": {},
     "nuid": "6597369e-2881-4360-b606-5d6cddd9ebf5",
     "showTitle": false,
     "tableResultSettingsMap": {},
     "title": ""
    }
   },
   "outputs": [],
   "source": [
    "CREATE TABLE employee_sales (\n",
    "emp_id INT,\n",
    "emp_name varchar(50),\n",
    "sale_amount INT,\n",
    "dept varchar(50),\n",
    "sale_date date\n",
    ")\n"
   ]
  },
  {
   "cell_type": "code",
   "execution_count": 0,
   "metadata": {
    "application/vnd.databricks.v1+cell": {
     "cellMetadata": {
      "byteLimit": 2048000,
      "rowLimit": 10000
     },
     "inputWidgets": {},
     "nuid": "70e1584b-2b40-4445-9eb9-0a8402923494",
     "showTitle": false,
     "tableResultSettingsMap": {},
     "title": ""
    }
   },
   "outputs": [],
   "source": [
    "INSERT INTO employee_sales VALUES\n",
    "(101,\t'Ankit',\t5000,\t'Fashion',\t'2023-10-01'),\n",
    "(102,\t'Priya',\t8000,\t'Fashion',\t'2023-10-01'),\n",
    "(103,\t'Ravi',\t7000,\t'Electronics',\t'2023-10-02'),\n",
    "(101,\t'Ankit',\t6000,\t'Fashion',\t'2023-10-03')\n"
   ]
  },
  {
   "cell_type": "code",
   "execution_count": 0,
   "metadata": {
    "application/vnd.databricks.v1+cell": {
     "cellMetadata": {
      "byteLimit": 2048000,
      "rowLimit": 10000
     },
     "inputWidgets": {},
     "nuid": "fc346eb4-bc31-4d56-ab53-e5b0a5c79828",
     "showTitle": false,
     "tableResultSettingsMap": {},
     "title": ""
    }
   },
   "outputs": [],
   "source": [
    "select * from employee_sales;"
   ]
  },
  {
   "cell_type": "code",
   "execution_count": 0,
   "metadata": {
    "application/vnd.databricks.v1+cell": {
     "cellMetadata": {
      "byteLimit": 2048000,
      "rowLimit": 10000
     },
     "inputWidgets": {},
     "nuid": "538d930f-aabf-4f48-9ddd-e3b7ec357c5c",
     "showTitle": false,
     "tableResultSettingsMap": {},
     "title": ""
    }
   },
   "outputs": [],
   "source": [
    "-- use a window function to assign a rank of emploees by sale_amount within each department\n",
    "\n",
    "select emp_name, sale_amount, dept, RANK() OVER(PARTITION BY dept order by sale_amount desc) as rank from employee_sales;"
   ]
  },
  {
   "cell_type": "code",
   "execution_count": 0,
   "metadata": {
    "application/vnd.databricks.v1+cell": {
     "cellMetadata": {
      "byteLimit": 2048000,
      "rowLimit": 10000
     },
     "inputWidgets": {},
     "nuid": "6a39eba4-3228-45f7-a89c-4d104474e85e",
     "showTitle": false,
     "tableResultSettingsMap": {},
     "title": ""
    }
   },
   "outputs": [],
   "source": [
    "-- find the running total of sales for each employee\n",
    "\n",
    "select emp_name, sale_amount, SUM(sale_amount) OVER(partition by emp_id order by sale_date) from employee_sales;"
   ]
  },
  {
   "cell_type": "code",
   "execution_count": 0,
   "metadata": {
    "application/vnd.databricks.v1+cell": {
     "cellMetadata": {
      "byteLimit": 2048000,
      "rowLimit": 10000
     },
     "inputWidgets": {},
     "nuid": "5956a338-8719-4201-be7f-c64d48e02dee",
     "showTitle": false,
     "tableResultSettingsMap": {},
     "title": ""
    }
   },
   "outputs": [],
   "source": [
    "--optimize a query by selecting only necessary columns and applying filter before aggregation\n",
    "\n",
    "SELECT emp_id, emp_name, SUM(sale_amount) AS total_sales\n",
    "FROM employee_sales\n",
    "WHERE dept = 'Fashion' AND sale_date >= '2023-10-01' -- first filter (WHERE)\n",
    "GROUP BY emp_id, emp_name; -- then aggregate "
   ]
  }
 ],
 "metadata": {
  "application/vnd.databricks.v1+notebook": {
   "computePreferences": null,
   "dashboards": [],
   "environmentMetadata": {
    "base_environment": "",
    "environment_version": "3"
   },
   "inputWidgetPreferences": null,
   "language": "sql",
   "notebookMetadata": {
    "pythonIndentUnit": 4
   },
   "notebookName": "Assignment 3: Window Functions & Optimization",
   "widgets": {}
  },
  "language_info": {
   "name": "sql"
  }
 },
 "nbformat": 4,
 "nbformat_minor": 0
}
